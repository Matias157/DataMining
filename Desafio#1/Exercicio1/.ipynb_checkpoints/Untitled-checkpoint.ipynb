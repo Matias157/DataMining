{
 "cells": [
  {
   "cell_type": "markdown",
   "metadata": {},
   "source": [
    "**1 - Considere uma matriz esparça (document-term matrix), em que tfij é a frequência da i-ésima\n",
    "palavra (termo) no j-ésimo documento e m é o número de documentos. Considere a transformação\n",
    "da variável que é definida por ... onde dfi é o número de documentos em que o i-ésimo termo aparece e é conhecido como a\n",
    "frequência do documento do termo. Essa transformação é conhecida como transformação inversa\n",
    "da frequência do documento**"
   ]
  },
  {
   "cell_type": "markdown",
   "metadata": {},
   "source": [
    "**a) Qual é o efeito dessa transformação se um termo ocorrer em um documento? E em todos os\n",
    "documentos?**"
   ]
  },
  {
   "cell_type": "markdown",
   "metadata": {},
   "source": [
    "Se o termo ocorre em apenas um documento sua frequencia será multiplicada pelo log do numero de documentos, desta forma este termo será destacado por ser mais raro.\n",
    "Caso contrario se o termo ocorre em todos os documentos então dfi = m, desta forma sua frequência será multiplicada pelo log de 1 o que anula sua frequência."
   ]
  },
  {
   "cell_type": "markdown",
   "metadata": {},
   "source": [
    "**b) Qual pode ser o propósito dessa transformação?**"
   ]
  },
  {
   "cell_type": "markdown",
   "metadata": {},
   "source": [
    "Esta transformação destaca termos que são mais 'raros' que devem ser considerados mais relevantes quando uma busca for realizada."
   ]
  },
  {
   "cell_type": "markdown",
   "metadata": {},
   "source": [
    "**2 - Para os seguintes vetores, x e y, calcule as medidas de semelhança ou distância indicadas.**"
   ]
  },
  {
   "cell_type": "code",
   "execution_count": 23,
   "metadata": {},
   "outputs": [],
   "source": [
    "import math\n",
    "\n",
    "def med(x):\n",
    "    soma = 0\n",
    "    for i in range(0, len(x)):\n",
    "        soma += x[i]\n",
    "    med = soma/len(x)\n",
    "    return(med)\n",
    "\n",
    "def cov(x, y):\n",
    "    medX = med(x)\n",
    "    medY = med(y)\n",
    "    soma = 0\n",
    "    for i in range(0, len(x)):\n",
    "        soma += ((x[i] - medX) * (y[i] - medY))\n",
    "    cov = soma/(len(x)-1)\n",
    "    return(cov)\n",
    "\n",
    "def sdev(x):\n",
    "    medX = med(x)\n",
    "    soma = 0\n",
    "    for i in range(0, len(x)):\n",
    "        soma += ((x[i] - medX) * (x[i] - medX))\n",
    "    sdev = math.sqrt(soma/(len(x)-1))\n",
    "    return(sdev)\n",
    "    \n",
    "def cos(x, y):\n",
    "    prod = 0\n",
    "    magX = 0\n",
    "    magY = 0\n",
    "    for i in range (0, len(x)):\n",
    "        prod += x[i]*y[i]\n",
    "        magX += x[i]*x[i]\n",
    "        magY += y[i]*y[i]\n",
    "    magX = math.sqrt(magX)\n",
    "    magY = math.sqrt(magY)\n",
    "    cos = prod/(magX*magY)\n",
    "    return(cos)\n",
    "\n",
    "def corr(x, y):\n",
    "    covXY = cov(x, y)\n",
    "    sdevX = sdev(x)\n",
    "    sdevY = sdev(y)\n",
    "    if(sdevX == 0 or sdevY == 0):\n",
    "        return(\"Undefined\")\n",
    "    corr = covXY/(sdevX*sdevY)\n",
    "    return(corr)\n",
    "\n",
    "def euc(x, y):\n",
    "    soma = 0\n",
    "    for i in range (0, len(x)):\n",
    "        soma += (x[i] - y[i])*((x[i] - y[i]))\n",
    "    euc = math.sqrt(soma)\n",
    "    return(euc)\n",
    "\n",
    "def jac(x, y):\n",
    "    f01 = 0\n",
    "    f10 = 0\n",
    "    f11 = 0\n",
    "    for i in range (0, len(x)):\n",
    "        if(x[i] == 0 and y[i] == 1):\n",
    "            f01 += 1\n",
    "        elif(x[i] == 1 and y[i] == 0):\n",
    "            f10 += 1\n",
    "        elif(x[i] == 1 and y[i] == 1):\n",
    "            f11 += 1\n",
    "    jac = f11/(f01+f10+f11)\n",
    "    return(jac)"
   ]
  },
  {
   "cell_type": "markdown",
   "metadata": {},
   "source": [
    "**a) x = (1, 1, 1, 1), y = (2, 2, 2, 2) cosine, correlação, Euclidean**"
   ]
  },
  {
   "cell_type": "code",
   "execution_count": 22,
   "metadata": {},
   "outputs": [
    {
     "name": "stdout",
     "output_type": "stream",
     "text": [
      "1.0\n",
      "Undefined\n",
      "2.0\n"
     ]
    }
   ],
   "source": [
    "x = [1, 1, 1, 1]\n",
    "y = [2, 2, 2, 2]\n",
    "\n",
    "print(cos(x, y))\n",
    "print(corr(x, y))\n",
    "print(euc(x, y))\n"
   ]
  },
  {
   "cell_type": "markdown",
   "metadata": {},
   "source": [
    "**b) x = (0, 1, 0, 1), y = (1, 0, 1, 0) cosine, correlação, Euclidean, Jaccard**"
   ]
  },
  {
   "cell_type": "code",
   "execution_count": 24,
   "metadata": {},
   "outputs": [
    {
     "name": "stdout",
     "output_type": "stream",
     "text": [
      "0.0\n",
      "-1.0\n",
      "2.0\n",
      "0.0\n"
     ]
    }
   ],
   "source": [
    "x = [0, 1, 0, 1]\n",
    "y = [1, 0, 1, 0]\n",
    "\n",
    "print(cos(x, y))\n",
    "print(corr(x, y))\n",
    "print(euc(x, y))\n",
    "print(jac(x, y))"
   ]
  },
  {
   "cell_type": "markdown",
   "metadata": {},
   "source": [
    "**c) x = (0, −1, 0, 1), y = (1, 0, −1, 0) cosine, correlação, Euclidean**"
   ]
  },
  {
   "cell_type": "code",
   "execution_count": 25,
   "metadata": {},
   "outputs": [
    {
     "name": "stdout",
     "output_type": "stream",
     "text": [
      "0.0\n",
      "0.0\n",
      "2.0\n"
     ]
    }
   ],
   "source": [
    "x = [0, -1, 0, 1]\n",
    "y = [1, 0, -1, 0]\n",
    "\n",
    "print(cos(x, y))\n",
    "print(corr(x, y))\n",
    "print(euc(x, y))"
   ]
  },
  {
   "cell_type": "markdown",
   "metadata": {},
   "source": [
    "**d) x = (1, 1, 0, 1, 0, 1), y = (1, 1, 1, 0, 0, 1) cosine, correlação, Jaccard**"
   ]
  },
  {
   "cell_type": "code",
   "execution_count": 26,
   "metadata": {},
   "outputs": [
    {
     "name": "stdout",
     "output_type": "stream",
     "text": [
      "0.75\n",
      "0.25\n",
      "0.6\n"
     ]
    }
   ],
   "source": [
    "x = [1, 1, 0, 1, 0, 1]\n",
    "y = [1, 1, 1, 0, 0, 1]\n",
    "\n",
    "print(cos(x, y))\n",
    "print(corr(x, y))\n",
    "print(jac(x, y))"
   ]
  },
  {
   "cell_type": "markdown",
   "metadata": {},
   "source": [
    "**e) x = (2, −1, 0, 2, 0, −3), y = (−1, 1, −1, 0, 0, −1) cosine, correlação**"
   ]
  },
  {
   "cell_type": "code",
   "execution_count": 27,
   "metadata": {},
   "outputs": [
    {
     "name": "stdout",
     "output_type": "stream",
     "text": [
      "0.0\n",
      "-5.733167046599012e-17\n"
     ]
    }
   ],
   "source": [
    "x = [2, -1, 0, 2, 0, -3]\n",
    "y = [-1, 1, -1, 0, 0, -1]\n",
    "\n",
    "print(cos(x, y))\n",
    "print(corr(x, y))"
   ]
  },
  {
   "cell_type": "markdown",
   "metadata": {},
   "source": [
    "**3 - Aqui, exploramos ainda mais as medidas de cosseno e correlação.**"
   ]
  },
  {
   "cell_type": "markdown",
   "metadata": {},
   "source": [
    "**a) Qual é a faixa de valores possíveis para a medida do cosseno?**"
   ]
  },
  {
   "cell_type": "markdown",
   "metadata": {},
   "source": [
    "Os possiveis valores para o cosseno existem no intervalo de 0 a 1."
   ]
  },
  {
   "cell_type": "markdown",
   "metadata": {},
   "source": [
    "**b) Se dois objetos têm uma medida de cosseno de 1, eles são idênticos? Explique.**"
   ]
  },
  {
   "cell_type": "markdown",
   "metadata": {},
   "source": [
    "Não necessariamente. Ter uma medidada de cosseno 1 apenas indica que os objetos tem a mesma inclinação, podemos verificar na latra a do exercicio anterior que dois objetos diferentes tem uma medida de cosseno 1."
   ]
  },
  {
   "cell_type": "markdown",
   "metadata": {},
   "source": [
    "**4 - Discutir as diferenças entre a redução da dimensionalidade com base em agregação e da redução\n",
    "da dimensão com base em técnicas como PCA.**"
   ]
  },
  {
   "cell_type": "markdown",
   "metadata": {},
   "source": [
    "Reduções com base em agragação combinam 2 ou mais atribuitos em um unico atributo. Agregações não tem como abjetivo apenas a redução de dimenções mas também mudanças de escala bem como formatações mais 'estaveis' dos dados.\n",
    "Reduções com base em técnicas como PCA tem como objetivo apenas a redução de dimenções. O PCA, por exemplo, apenas busca achar uma projeção que capture a maior variação nos dados, não sem importando com escala ou formatação dos dados. "
   ]
  },
  {
   "cell_type": "markdown",
   "metadata": {},
   "source": [
    "**Parte 2 - Exercícios referentes a obtenção de dados**"
   ]
  },
  {
   "cell_type": "markdown",
   "metadata": {},
   "source": [
    "**5- Adaptar o coletor de nome de produto da Magazine Luíza para capturar também o preço do produto.**"
   ]
  },
  {
   "cell_type": "code",
   "execution_count": 37,
   "metadata": {},
   "outputs": [
    {
     "name": "stdout",
     "output_type": "stream",
     "text": [
      "<h1 class=\"header-product__title\">Cafeteira Francesa - Prensa Francesa 600 Ml</h1>\n",
      "Cafeteira Francesa - Prensa Francesa 600 Ml\n",
      "<div class=\"price-template\"> <div class=\"price-template__from\">de R$ 49,49</div> <div class=\"price-template\">por R$ 37,49</div> <div class=\"price-template__cash--margin\"> <div class=\"price-template-price-block\"> <span class=\"price-template__bold\">R$</span> <span class=\"price-template__text\">34,87</span> <span class=\"price-template__discount-text\">(7% de desconto)</span> </div> </div> </div>\n",
      " de R$ 49,49 por R$ 37,49   R$ 34,87 (7% de desconto)   \n"
     ]
    }
   ],
   "source": [
    "import requests\n",
    "from bs4 import BeautifulSoup\n",
    "\n",
    "\n",
    "##pagina porcao Fourquare\n",
    "\n",
    "url=\"https://www.magazineluiza.com.br/cafeteira-francesa-prensa-francesa-600-ml/p/jf3e835h66/ud/prsf/\"\n",
    "\n",
    "##retorna o conteudo da pagina\n",
    "req = requests.get(url)\n",
    "\n",
    "##transforma o conteudo da pagina em um objeto BeautifulSoup\n",
    "soup = BeautifulSoup(req.content,'html.parser')\n",
    "\n",
    "nomeBruto = soup.find(\"h1\",{\"class\":\"header-product__title\"})\n",
    "\n",
    "print(nomeBruto)\n",
    "\n",
    "print(nomeBruto.text)\n",
    "\n",
    "precoBruto = soup.find(\"div\",{\"class\":\"price-template\"})\n",
    "\n",
    "print(precoBruto)\n",
    "\n",
    "preco = soup.find(\"div\", {\"class\":\"price-template\"})\n",
    "\n",
    "print(preco.text)"
   ]
  },
  {
   "cell_type": "markdown",
   "metadata": {},
   "source": [
    "**Parte 3 - Exercícios referentes à análise de dados**"
   ]
  },
  {
   "cell_type": "markdown",
   "metadata": {},
   "source": [
    "**6 - Obtenha o dataset do desafio: https://www.kaggle.com/t/43c48adfa2974254b1ab5f4d155033f0.\n",
    "Após se familiarizar com os dados e entender a sua organização, quais técnicas de visualização e\n",
    "exploração de dados poderiam ser aplicáveis e úteis para entender melhor esses dados? (veja o\n",
    "material disponibilizado e o capítulo 3 do livro base). Justifique as suas escolhas.**"
   ]
  },
  {
   "cell_type": "code",
   "execution_count": 3,
   "metadata": {},
   "outputs": [
    {
     "name": "stdout",
     "output_type": "stream",
     "text": [
      "Collecting matplotlib\n",
      "  Using cached matplotlib-3.4.2-cp39-cp39-manylinux1_x86_64.whl (10.3 MB)\n",
      "Requirement already satisfied: kiwisolver>=1.0.1 in /usr/lib/python3/dist-packages (from matplotlib) (1.2.0)\n",
      "Requirement already satisfied: cycler>=0.10 in /usr/lib/python3/dist-packages (from matplotlib) (0.10.0)\n",
      "Requirement already satisfied: pyparsing>=2.2.1 in /usr/lib/python3/dist-packages (from matplotlib) (2.4.7)\n",
      "Requirement already satisfied: python-dateutil>=2.7 in /usr/lib/python3/dist-packages (from matplotlib) (2.8.1)\n",
      "Requirement already satisfied: numpy>=1.16 in /usr/lib/python3/dist-packages (from matplotlib) (1.19.3)\n",
      "Requirement already satisfied: pillow>=6.2.0 in /usr/lib/python3/dist-packages (from matplotlib) (8.0.1)\n",
      "Installing collected packages: matplotlib\n",
      "Successfully installed matplotlib-3.4.2\n"
     ]
    }
   ],
   "source": [
    "#!/usr/bin/env python\n",
    "import sys  \n",
    "!{sys.executable} -m pip install --user matplotlib"
   ]
  },
  {
   "cell_type": "code",
   "execution_count": null,
   "metadata": {},
   "outputs": [],
   "source": [
    "#Análise e manipulação de dados \n",
    "import pandas as pd\n",
    "\n",
    "#Visualização de dados\n",
    "import matplotlib.pyplot as plt\n",
    "import seaborn as sns\n",
    "#%matplotlib inline\n",
    "\n",
    "#Recursos estatísticos\n",
    "from scipy import stats\n",
    "\n",
    "#Vizualização geoespacial\n",
    "import folium\n",
    "from folium.plugins import HeatMap\n",
    "\n",
    "# Caso esteja acessando na sua máquina\n",
    "train = pd.read_csv('X_trainCharlotte.csv')"
   ]
  },
  {
   "cell_type": "code",
   "execution_count": null,
   "metadata": {},
   "outputs": [],
   "source": [
    "train['review_count'].describe()"
   ]
  },
  {
   "cell_type": "code",
   "execution_count": null,
   "metadata": {},
   "outputs": [],
   "source": [
    "train.plot.scatter(x='review_count', y='name')"
   ]
  },
  {
   "cell_type": "markdown",
   "metadata": {},
   "source": [
    "**7 - Com base na resposta da questão 6, realize algumas das opções levantadas (pelo menos três tipos\n",
    "diferentes). Apresente os principais insights obtidos com as análises.**"
   ]
  },
  {
   "cell_type": "code",
   "execution_count": null,
   "metadata": {},
   "outputs": [],
   "source": []
  },
  {
   "cell_type": "markdown",
   "metadata": {},
   "source": [
    "**8 - Algum dos resultados encontrados na questão 7 pode ser útil na resolução do problema proposto\n",
    "em https://www.kaggle.com/t/43c48adfa2974254b1ab5f4d155033f0? Discutir todos que forem\n",
    "identificados.**"
   ]
  },
  {
   "cell_type": "code",
   "execution_count": null,
   "metadata": {},
   "outputs": [],
   "source": []
  }
 ],
 "metadata": {
  "kernelspec": {
   "display_name": "Python 3 (ipykernel)",
   "language": "python",
   "name": "python3"
  },
  "language_info": {
   "codemirror_mode": {
    "name": "ipython",
    "version": 3
   },
   "file_extension": ".py",
   "mimetype": "text/x-python",
   "name": "python",
   "nbconvert_exporter": "python",
   "pygments_lexer": "ipython3",
   "version": "3.9.2"
  }
 },
 "nbformat": 4,
 "nbformat_minor": 4
}
